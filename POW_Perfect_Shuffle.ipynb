{
 "cells": [
  {
   "cell_type": "code",
   "execution_count": 30,
   "metadata": {
    "collapsed": true
   },
   "outputs": [
    {
     "name": "stdout",
     "output_type": "stream",
     "text": [
      "2 1\n",
      "4 2\n",
      "6 4\n",
      "8 3\n",
      "10 6\n",
      "12 10\n",
      "14 12\n",
      "16 4\n",
      "18 8\n",
      "20 18\n",
      "22 6\n",
      "24 11\n",
      "26 20\n",
      "28 18\n",
      "30 28\n",
      "32 5\n",
      "34 10\n",
      "36 12\n",
      "38 36\n",
      "40 12\n",
      "42 20\n",
      "44 14\n",
      "46 12\n",
      "48 23\n",
      "50 21\n",
      "52 8\n"
     ]
    }
   ],
   "source": [
    "# calculates how many shuffles are needed\n",
    "# to get the original order of cards\n",
    "def shuffle_calculator(n):\n",
    "\t# formula used to calculate shuffles: 2^k mod(2n-1) == 1\n",
    "\tif n == 2: return 1\n",
    "\n",
    "    # n = number of cards\n",
    "    # t = original position\n",
    "    # k = number of shuffles\n",
    "\tn,t,k = n-1,2,1\n",
    "\n",
    "    # While loop that does the calculations\n",
    "\twhile t != 1:\n",
    "\t\tt,k = (t*2)%n,k+1\n",
    "\treturn k\n",
    "\n",
    "# For loop that represents the number of cards\n",
    "for i in range(2, 53, 2):\n",
    "\tprint(i, shuffle_calculator(i))"
   ]
  }
 ],
 "metadata": {
  "kernelspec": {
   "display_name": "Python 3",
   "language": "python",
   "name": "python3"
  },
  "language_info": {
   "codemirror_mode": {
    "name": "ipython",
    "version": 2
   },
   "file_extension": ".py",
   "mimetype": "text/x-python",
   "name": "python",
   "nbconvert_exporter": "python",
   "pygments_lexer": "ipython2",
   "version": "2.7.6"
  }
 },
 "nbformat": 4,
 "nbformat_minor": 0
}